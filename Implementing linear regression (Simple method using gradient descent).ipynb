{
 "cells": [
  {
   "cell_type": "markdown",
   "id": "5377b502",
   "metadata": {},
   "source": [
    "## Implementing linear regression with gradient descent"
   ]
  },
  {
   "cell_type": "code",
   "execution_count": 103,
   "id": "90ae242c",
   "metadata": {},
   "outputs": [],
   "source": [
    "import pandas as pd\n",
    "import numpy as np\n",
    "import matplotlib.pyplot as plt"
   ]
  },
  {
   "cell_type": "code",
   "execution_count": 91,
   "id": "35a39bea",
   "metadata": {},
   "outputs": [],
   "source": [
    "data = pd.read_csv(\"./data.csv\")"
   ]
  },
  {
   "cell_type": "code",
   "execution_count": 92,
   "id": "aa50a390",
   "metadata": {},
   "outputs": [],
   "source": [
    "data.insert(0, 'x_1', data['x'])\n",
    "data.insert(0, 'x_0', 1)\n",
    "data = data.drop('x', axis=1)"
   ]
  },
  {
   "cell_type": "code",
   "execution_count": 93,
   "id": "df22457a",
   "metadata": {},
   "outputs": [],
   "source": [
    "X = data.iloc[:,:-1].values\n",
    "Y = data.iloc[:,-1:].values"
   ]
  },
  {
   "cell_type": "code",
   "execution_count": 94,
   "id": "caeacff1",
   "metadata": {},
   "outputs": [],
   "source": [
    "# The hypothesis function\n",
    "def h(p, x):\n",
    "    return np.transpose(np.transpose(p) @ np.transpose(x))"
   ]
  },
  {
   "cell_type": "code",
   "execution_count": 95,
   "id": "99338697",
   "metadata": {},
   "outputs": [],
   "source": [
    "# The cost function\n",
    "def cost(p, x, y):\n",
    "    preds = h(p, x)\n",
    "    return np.sum((preds - y) ** 2) / y.shape[0]"
   ]
  },
  {
   "cell_type": "code",
   "execution_count": 136,
   "id": "9c1e22fe",
   "metadata": {},
   "outputs": [],
   "source": [
    "alpha = 0.01 # Learning rate"
   ]
  },
  {
   "cell_type": "code",
   "execution_count": 97,
   "id": "c46cbc07",
   "metadata": {},
   "outputs": [],
   "source": [
    "def gradient_descent(p, x, y, alpha):\n",
    "    preds = h(p, x)\n",
    "    D = np.transpose(preds - y) @ x\n",
    "    return p - ((alpha / y.shape[0]) * np.transpose(D))"
   ]
  },
  {
   "cell_type": "code",
   "execution_count": 137,
   "id": "e6c7d5f3",
   "metadata": {},
   "outputs": [],
   "source": [
    "# Trains a model and returns the final values of parameters\n",
    "def train(x, y, alpha):\n",
    "    parameters = np.array([0,0]).reshape(2,1) # Starting values as [0, 0]\n",
    "    \n",
    "    iterations = 100\n",
    "    batch_size = 100 \n",
    "    \n",
    "    cost_history = []\n",
    "    iter_history = []\n",
    "    \n",
    "    for i in range(1, iterations + 1):\n",
    "        for _ in range(batch_size):\n",
    "            parameters = gradient_descent(parameters, x, y, alpha)\n",
    "        \n",
    "        iter_history.append(i)\n",
    "        cost_history.append(cost(parameters, x, y))\n",
    "        \n",
    "#     print(np.array(iter_history) * batch_size)\n",
    "#     print(cost_history)\n",
    "    \n",
    "    plt.plot(np.array(iter_history)  * batch_size, cost_history)\n",
    "    plt.ylabel(\"Cost\")\n",
    "    plt.xlabel(\"Iterations\")\n",
    "    \n",
    "    return parameters"
   ]
  },
  {
   "cell_type": "code",
   "execution_count": 141,
   "id": "710edbb6",
   "metadata": {},
   "outputs": [
    {
     "data": {
      "image/png": "[encoded data removed]",
      "text/plain": [
       "<Figure size 432x288 with 1 Axes>"
      ]
     },
     "metadata": {
      "needs_background": "light"
     },
     "output_type": "display_data"
    }
   ],
   "source": [
    "P = train(X, Y, alpha)"
   ]
  },
  {
   "cell_type": "markdown",
   "id": "cc23f404",
   "metadata": {},
   "source": [
    "Here we have the plot for cost vs iterations, we can see the cost clearly decreases gradually after every iteration. So whatever calculations carried out above has actually worked!!!"
   ]
  },
  {
   "cell_type": "code",
   "execution_count": 142,
   "id": "dad66d60",
   "metadata": {},
   "outputs": [
    {
     "name": "stdout",
     "output_type": "stream",
     "text": [
      "Parameters:  [[-3.89578082]\n",
      " [ 1.19303364]]\n"
     ]
    }
   ],
   "source": [
    "print(\"Parameters: \", P)"
   ]
  },
  {
   "cell_type": "code",
   "execution_count": 127,
   "id": "0c0137b4",
   "metadata": {},
   "outputs": [
    {
     "data": {
      "text/plain": [
       "[<matplotlib.lines.Line2D at 0x1f5683e4a00>]"
      ]
     },
     "execution_count": 127,
     "metadata": {},
     "output_type": "execute_result"
    },
    {
     "data": {
      "image/png": "[encoded data removed]",
      "text/plain": [
       "<Figure size 432x288 with 1 Axes>"
      ]
     },
     "metadata": {
      "needs_background": "light"
     },
     "output_type": "display_data"
    }
   ],
   "source": [
    "plt.scatter(data['x_1'], data['y'], marker=\"+\", c=\"red\", )\n",
    "plt.plot(data['x_1'], h(P, X))"
   ]
  },
  {
   "cell_type": "markdown",
   "id": "32c789c7",
   "metadata": {},
   "source": [
    "And thats the regression line drawn form the values of paraments obtained form the train() function, It fits the data perfectly. Yay!!!"
   ]
  },
  {
   "cell_type": "markdown",
   "id": "c7dadcd5",
   "metadata": {},
   "source": [
    "# All done!!!"
   ]
  },
  {
   "cell_type": "code",
   "execution_count": null,
   "id": "41e68286",
   "metadata": {},
   "outputs": [],
   "source": []
  }
 ],
 "metadata": {
  "kernelspec": {
   "display_name": "Python 3",
   "language": "python",
   "name": "python3"
  },
  "language_info": {
   "codemirror_mode": {
    "name": "ipython",
    "version": 3
   },
   "file_extension": ".py",
   "mimetype": "text/x-python",
   "name": "python",
   "nbconvert_exporter": "python",
   "pygments_lexer": "ipython3",
   "version": "3.8.8"
  }
 },
 "nbformat": 4,
 "nbformat_minor": 5
}
